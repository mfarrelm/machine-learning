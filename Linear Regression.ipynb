{
 "cells": [
  {
   "cell_type": "markdown",
   "metadata": {},
   "source": [
    "Hal - hal yang harus diperhatikan\n",
    "1. Tetha dan X sebagai vector\n",
    "2. Feature scaling dan mean normalization dari data\n",
    "3. Define feature baru dari feature2 yang sudah ada, bisa untuk polynomial regression\n",
    "4. data x dan y bertipe np.array\n",
    "5. matriks x ke samping training example, kebawah banyaknya feature"
   ]
  },
  {
   "cell_type": "code",
   "execution_count": 1,
   "metadata": {},
   "outputs": [],
   "source": [
    "import numpy as np\n",
    "import matplotlib.pyplot as plt\n",
    "from IPython.display import set_matplotlib_formats\n",
    "set_matplotlib_formats(\"svg\")\n",
    "%matplotlib inline\n",
    "import matplotlib\n",
    "#matplotlib.style.use(\"dark_background\")\n",
    "matplotlib.style.use(\"default\")"
   ]
  },
  {
   "cell_type": "code",
   "execution_count": 2,
   "metadata": {},
   "outputs": [],
   "source": [
    "import scipy.optimize as optim"
   ]
  },
  {
   "cell_type": "code",
   "execution_count": 3,
   "metadata": {},
   "outputs": [],
   "source": [
    "def normalize(x, mu, s) :\n",
    "    return (x - mu) / s"
   ]
  },
  {
   "cell_type": "code",
   "execution_count": 4,
   "metadata": {},
   "outputs": [],
   "source": [
    "def normalEq (x, y):\n",
    "    \n",
    "    x = x.astype(float)\n",
    "    y = y.astype(float)\n",
    "    m = len(x.T) #m adalah banyaknya training example\n",
    "    x = np.vstack([np.ones([m]), x]).T\n",
    "    theta = np.linalg.pinv(x.T @ x) @ x.T @ y\n",
    "    return theta"
   ]
  },
  {
   "cell_type": "code",
   "execution_count": 5,
   "metadata": {},
   "outputs": [],
   "source": [
    "def hypFunction(x,theta) :\n",
    "    \n",
    "    m = len(x.T)\n",
    "    x_0 = np.ones([m])\n",
    "    x = np.vstack([x_0,x])\n",
    "    return theta.T @ x"
   ]
  },
  {
   "cell_type": "code",
   "execution_count": 6,
   "metadata": {},
   "outputs": [],
   "source": [
    "def plotRegression(x,y,theta, dist = 0.1 ) : \n",
    "    xdata = np.arange(x[0] - 1, x[-1] + 1, dist)\n",
    "    y_reg = hypFunction(xdata,theta)\n",
    "    plt.plot(x,y,'rx', label = 'data')\n",
    "    plt.plot(xdata,y_reg,label = 'regresi')\n",
    "    plt.grid()\n",
    "    plt.legend()"
   ]
  },
  {
   "cell_type": "code",
   "execution_count": 7,
   "metadata": {},
   "outputs": [],
   "source": [
    "def computeCostFunc(x,y,theta,lambda_ = 0):\n",
    "    \n",
    "    m = len(x.T) # m banyaknya training example\n",
    "    return 1/(2*m) * np.sum( (hypFunction(x,theta) - y)**2) + lambda_/(2*m) * np.sum(theta**2)  \n",
    "    "
   ]
  },
  {
   "cell_type": "code",
   "execution_count": 8,
   "metadata": {},
   "outputs": [],
   "source": [
    "def gradDescent(x,y, alfa = 0.01, lambda_ = 0, itermax = 20000, debug = False) :\n",
    "    n = len(np.mat(x)) #n adalah banyaknya feature\n",
    "    m = len(x.T)\n",
    "    x = x.astype(float)\n",
    "    xdata = x\n",
    "    x_iter = np.arange(0,itermax,1)\n",
    "    y_costFunc = np.zeros([itermax])\n",
    "    \n",
    "    theta = np.zeros([n+1])\n",
    "    x = np.vstack([np.ones([m]), x])\n",
    "    for it in range(itermax) :\n",
    "        \n",
    "        if (debug) :\n",
    "            y_costFunc[it] = computeCostFunc(xdata,y,theta)\n",
    "            \n",
    "        \n",
    "        theta = theta * (1 - alfa * lambda_/m) - alfa/m * (hypFunction(xdata,theta) - y) @ x.T\n",
    "            \n",
    "        \n",
    "    if (debug) :\n",
    "        plt.plot(x_iter,y_costFunc)\n",
    "        plt.grid()\n",
    "    return theta\n",
    "    "
   ]
  },
  {
   "cell_type": "code",
   "execution_count": 9,
   "metadata": {},
   "outputs": [],
   "source": [
    "def theta_w_Scipy(x,y,lambda_ = 0) :\n",
    "   \n",
    "    \n",
    "    def computeCostFunc2(theta_,x_,y_,lambda_):\n",
    "        return computeCostFunc(x_,y_,theta_,lambda_)\n",
    "    \n",
    "    \n",
    "    n = len(np.mat(x))\n",
    "    theta = np.zeros([n+1])\n",
    "    return optim.fmin(computeCostFunc2,theta, args = (x,y,lambda_))"
   ]
  },
  {
   "cell_type": "code",
   "execution_count": 10,
   "metadata": {},
   "outputs": [],
   "source": [
    "x = np.array([1,2,3,4])\n",
    "y = 2*x -4"
   ]
  },
  {
   "cell_type": "code",
   "execution_count": 11,
   "metadata": {},
   "outputs": [],
   "source": [
    "from sklearn.linear_model import SGDClassifier\n",
    "clf = SGDClassifier(loss=\"hinge\", penalty=\"l2\", max_iter=5)"
   ]
  },
  {
   "cell_type": "code",
   "execution_count": 15,
   "metadata": {},
   "outputs": [
    {
     "ename": "NameError",
     "evalue": "name 'x_train' is not defined",
     "output_type": "error",
     "traceback": [
      "\u001b[1;31m---------------------------------------------------------------------------\u001b[0m",
      "\u001b[1;31mNameError\u001b[0m                                 Traceback (most recent call last)",
      "\u001b[1;32m<ipython-input-15-78b254875e5b>\u001b[0m in \u001b[0;36m<module>\u001b[1;34m()\u001b[0m\n\u001b[0;32m      3\u001b[0m \u001b[1;33m\u001b[0m\u001b[0m\n\u001b[0;32m      4\u001b[0m \u001b[0mclf\u001b[0m \u001b[1;33m=\u001b[0m \u001b[0mLinearRegression\u001b[0m\u001b[1;33m(\u001b[0m\u001b[0mnormalize\u001b[0m\u001b[1;33m=\u001b[0m\u001b[1;32mTrue\u001b[0m\u001b[1;33m)\u001b[0m\u001b[1;33m\u001b[0m\u001b[0m\n\u001b[1;32m----> 5\u001b[1;33m \u001b[0mclf\u001b[0m\u001b[1;33m.\u001b[0m\u001b[0mfit\u001b[0m\u001b[1;33m(\u001b[0m\u001b[0mx_train\u001b[0m\u001b[1;33m,\u001b[0m\u001b[0my_train\u001b[0m\u001b[1;33m)\u001b[0m\u001b[1;33m\u001b[0m\u001b[0m\n\u001b[0m\u001b[0;32m      6\u001b[0m \u001b[0my_pred\u001b[0m \u001b[1;33m=\u001b[0m \u001b[0mclf\u001b[0m\u001b[1;33m.\u001b[0m\u001b[0mpredict\u001b[0m\u001b[1;33m(\u001b[0m\u001b[0mx_test\u001b[0m\u001b[1;33m)\u001b[0m\u001b[1;33m\u001b[0m\u001b[0m\n\u001b[0;32m      7\u001b[0m \u001b[0mprint\u001b[0m\u001b[1;33m(\u001b[0m\u001b[0mr2_score\u001b[0m\u001b[1;33m(\u001b[0m\u001b[0my_test\u001b[0m\u001b[1;33m,\u001b[0m\u001b[0my_pred\u001b[0m\u001b[1;33m)\u001b[0m\u001b[1;33m)\u001b[0m\u001b[1;33m\u001b[0m\u001b[0m\n",
      "\u001b[1;31mNameError\u001b[0m: name 'x_train' is not defined"
     ]
    }
   ],
   "source": [
    "from sklearn.linear_model import LinearRegression \n",
    "from sklearn.metrics import r2_score\n",
    "\n",
    "clf = LinearRegression(normalize=True)\n",
    "clf.fit(x_train,y_train)\n",
    "y_pred = clf.predict(x_test)\n",
    "print(r2_score(y_test,y_pred))"
   ]
  },
  {
   "cell_type": "code",
   "execution_count": null,
   "metadata": {},
   "outputs": [],
   "source": []
  }
 ],
 "metadata": {
  "kernelspec": {
   "display_name": "Python 3",
   "language": "python",
   "name": "python3"
  },
  "language_info": {
   "codemirror_mode": {
    "name": "ipython",
    "version": 3
   },
   "file_extension": ".py",
   "mimetype": "text/x-python",
   "name": "python",
   "nbconvert_exporter": "python",
   "pygments_lexer": "ipython3",
   "version": "3.7.0"
  }
 },
 "nbformat": 4,
 "nbformat_minor": 2
}
