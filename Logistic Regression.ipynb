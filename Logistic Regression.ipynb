{
 "cells": [
  {
   "cell_type": "code",
   "execution_count": 1,
   "metadata": {},
   "outputs": [],
   "source": [
    "import numpy as np\n",
    "import matplotlib.pyplot as plt\n",
    "from IPython.display import set_matplotlib_formats\n",
    "set_matplotlib_formats(\"svg\")\n",
    "%matplotlib inline\n",
    "import matplotlib\n",
    "#matplotlib.style.use(\"dark_background\")\n",
    "matplotlib.style.use(\"default\")"
   ]
  },
  {
   "cell_type": "code",
   "execution_count": 2,
   "metadata": {},
   "outputs": [],
   "source": [
    "import scipy.optimize as optim"
   ]
  },
  {
   "cell_type": "code",
   "execution_count": 21,
   "metadata": {},
   "outputs": [],
   "source": [
    "def sigmoid(x):\n",
    "    return 1/(1+np.exp(-x))"
   ]
  },
  {
   "cell_type": "code",
   "execution_count": 22,
   "metadata": {},
   "outputs": [],
   "source": [
    "def normalize(x, mu, s) :\n",
    "    return (x - mu) / s"
   ]
  },
  {
   "cell_type": "code",
   "execution_count": 23,
   "metadata": {},
   "outputs": [],
   "source": [
    "def hypFunction(x,theta) :\n",
    "    m = len(x.T)\n",
    "    x_0 = np.ones([m])\n",
    "    x = np.vstack([x_0,x])\n",
    "    return sigmoid(theta.T @ x)"
   ]
  },
  {
   "cell_type": "code",
   "execution_count": 36,
   "metadata": {},
   "outputs": [],
   "source": [
    "def plotRegression(x,y,theta, dist = 0.1 ) : \n",
    "    xdata = np.arange(x[0] - 1, x[-1] +1, dist)\n",
    "    y_reg = hypFunction(xdata,theta)\n",
    "    plt.plot(x,y,'rx', label = 'data')\n",
    "    plt.plot(xdata,y_reg,label = 'regresi')\n",
    "    plt.plot(xdata, np.ones([len(xdata)])/2, label = 'boundary')\n",
    "    plt.grid()\n",
    "    plt.legend()\n",
    "    "
   ]
  },
  {
   "cell_type": "code",
   "execution_count": 51,
   "metadata": {},
   "outputs": [],
   "source": [
    "def computeCostFunc(x,y,theta, lambda_ = 0):\n",
    "    m = len(x.T)\n",
    "    return 1/(m) * np.sum( -y * np.log10(hypFunction(x,theta)) - (1-y) * np.log10(1 - hypFunction(x,theta)) ) + lambda_ / (2*m) * np.sum(theta**2) \n",
    "    "
   ]
  },
  {
   "cell_type": "code",
   "execution_count": 64,
   "metadata": {},
   "outputs": [],
   "source": [
    "def gradDescent(x,y, alfa = 0.01, lambda_ = 0, itermax = 20000, debug = False) :\n",
    "    n = len(np.mat(x)) #n adalah banyaknya feature\n",
    "    m = len(x.T)\n",
    "    x = x.astype(float)\n",
    "    xdata = x\n",
    "    x_iter = np.arange(0,itermax,1)\n",
    "    y_costFunc = np.zeros([itermax])\n",
    "    \n",
    "    theta = np.zeros([n+1])\n",
    "    \n",
    "    for it in range(itermax) :\n",
    "        \n",
    "        if (debug) :\n",
    "            y_costFunc[it] = computeCostFunc(xdata,y,theta)\n",
    "            \n",
    "        \n",
    "        theta = theta * (1-alfa*lambda_/m) - alfa/m * (hypFunction(x,theta) - y) @ x\n",
    "            \n",
    "        \n",
    "    if (debug) :\n",
    "        plt.plot(x_iter,y_costFunc)\n",
    "        plt.grid()\n",
    "    return theta\n",
    "    "
   ]
  },
  {
   "cell_type": "code",
   "execution_count": 54,
   "metadata": {},
   "outputs": [],
   "source": [
    "def theta_w_Scipy(x,y, lambda_ = 0) :\n",
    "    \n",
    "    def computeCostFunc2(theta_,x_,y_,lambda_):\n",
    "        return computeCostFunc(x_,y_,theta_,lambda_)\n",
    "    \n",
    "    \n",
    "    n = len(np.mat(x))\n",
    "    theta = np.zeros([n+1])\n",
    "    return optim.fmin_bfgs(computeCostFunc2,theta, args = (x,y,lambda_))"
   ]
  }
 ],
 "metadata": {
  "kernelspec": {
   "display_name": "Python 3",
   "language": "python",
   "name": "python3"
  }
 },
 "nbformat": 4,
 "nbformat_minor": 2
}
