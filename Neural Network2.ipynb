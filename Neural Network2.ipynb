{
 "cells": [
  {
   "cell_type": "code",
   "execution_count": 1,
   "metadata": {},
   "outputs": [],
   "source": [
    "import numpy as np\n",
    "import matplotlib.pyplot as plt\n",
    "from IPython.display import set_matplotlib_formats\n",
    "set_matplotlib_formats(\"svg\")\n",
    "%matplotlib inline\n",
    "import matplotlib\n",
    "#matplotlib.style.use(\"dark_background\")\n",
    "matplotlib.style.use(\"default\")\n",
    "import random"
   ]
  },
  {
   "cell_type": "code",
   "execution_count": 238,
   "metadata": {},
   "outputs": [],
   "source": [
    "class neuralNetwork :\n",
    "    def __init__(self, hidden_layer_sizes = (3,3,3), activation_function = 'identity', alpha = 0.5, maxiter = 300, learn_rate = 0.5 ):\n",
    "        \n",
    "        \n",
    "        #n_layer berbentuk array, panjangnya = banyak layer, elemen di dalam = banyak unit\n",
    "        #if (type(hidden_layer_sizes) == int) :\n",
    "            #hidden_layer_sizes = tuple(np.array([hidden_layer_sizes]))\n",
    "        \n",
    "        self.hidden_layer_sizes = hidden_layer_sizes\n",
    "        self.activation_function = activation_function\n",
    "        self.alpha = alpha\n",
    "        self.maxiter = maxiter\n",
    "        self.total_layer = len(hidden_layer_sizes)\n",
    "        \n",
    "        self.weight_ = []\n",
    "        for i in range(self.total_layer - 1) :\n",
    "            self.weight_.append(np.random.randn(hidden_layer_sizes[i+1], hidden_layer_sizes[i] + 1))\n",
    "        self.weight_ = np.array(self.weight_)\n",
    "        \n",
    "        self.unit_ = []\n",
    "        for i in hidden_layer_sizes:\n",
    "            self.unit_.append(np.random.rand(i))\n",
    "            \n",
    "        \n",
    "        self.unit_ = np.array(self.unit_)\n",
    "        self.error_ = np.copy(self.unit_)\n",
    "        self.a_ = np.copy(self.unit_)\n",
    "        self.learn_rate = learn_rate\n",
    "        \n",
    "        \n",
    "        \n",
    "    \n",
    "    \n",
    "    def activation(self, x):\n",
    "        if (self.activation_function) == 'relu':\n",
    "            return np.max([0,x])\n",
    "        elif (self.activation_function) == 'identity':\n",
    "            return x\n",
    "        \n",
    "        elif (self.activation_function) == 'sigmoid':\n",
    "            return 1 / (1+np.exp(-x))\n",
    "        \n",
    "        elif (self.activation_function) == 'tanh':\n",
    "            return np.tanh(x)\n",
    "        \n",
    "        \n",
    "        \n",
    "        \n",
    "    \n",
    "    def forwardProp(self, input_data):\n",
    "        self.unit_[0] = input_data    \n",
    "               \n",
    "        for i in range(self.total_layer-1) :\n",
    "            self.a_[i+1] = np.dot(self.weight_[i], np.append(self.unit_[i], 1))\n",
    "            self.unit_[i+1] = self.activation(self.a_[i+1])    \n",
    "            \n",
    "        \n",
    "        return self.unit_[-1]\n",
    "    \n",
    "    def backProp(self,output_data):\n",
    "        self.error_[-1] = output_data - self.unit_[-1]\n",
    "        self.error_[-1] = np.append(self.error_[-1],1)\n",
    "        for i in range (self.total_layer - 1,0,-1):\n",
    "            self.error_[i-1] = np.append(self.activation_deriv(self.a_[i-1]), 1) * np.dot(self.weight_[i-1].transpose(), self.error_[i][:-1])\n",
    "        self.error_[-1] = np.delete(self.error_[-1],-1)\n",
    "        \n",
    "\n",
    "            \n",
    "        \n",
    "        \n",
    "        \n",
    "    "
   ]
  },
  {
   "cell_type": "code",
   "execution_count": 262,
   "metadata": {},
   "outputs": [],
   "source": [
    "a = np.array([[1,2,3],[4,5,6]])"
   ]
  },
  {
   "cell_type": "code",
   "execution_count": 245,
   "metadata": {},
   "outputs": [
    {
     "data": {
      "text/plain": [
       "3"
      ]
     },
     "execution_count": 245,
     "metadata": {},
     "output_type": "execute_result"
    }
   ],
   "source": [
    "np.amax(x)"
   ]
  },
  {
   "cell_type": "code",
   "execution_count": 253,
   "metadata": {},
   "outputs": [
    {
     "ename": "TypeError",
     "evalue": "ufunc 'exp' output (typecode 'd') could not be coerced to provided output parameter (typecode 'l') according to the casting rule ''same_kind''",
     "output_type": "error",
     "traceback": [
      "\u001b[1;31m---------------------------------------------------------------------------\u001b[0m",
      "\u001b[1;31mTypeError\u001b[0m                                 Traceback (most recent call last)",
      "\u001b[1;32m<ipython-input-253-561a338c8cc8>\u001b[0m in \u001b[0;36m<module>\u001b[1;34m()\u001b[0m\n\u001b[1;32m----> 1\u001b[1;33m \u001b[0mnp\u001b[0m\u001b[1;33m.\u001b[0m\u001b[0mexp\u001b[0m\u001b[1;33m(\u001b[0m\u001b[0mx\u001b[0m\u001b[1;33m,\u001b[0m \u001b[0mout\u001b[0m\u001b[1;33m=\u001b[0m\u001b[0mx\u001b[0m\u001b[1;33m)\u001b[0m\u001b[1;33m\u001b[0m\u001b[0m\n\u001b[0m",
      "\u001b[1;31mTypeError\u001b[0m: ufunc 'exp' output (typecode 'd') could not be coerced to provided output parameter (typecode 'l') according to the casting rule ''same_kind''"
     ]
    }
   ],
   "source": [
    "np.exp(x, out=x)"
   ]
  },
  {
   "cell_type": "code",
   "execution_count": 260,
   "metadata": {},
   "outputs": [],
   "source": [
    "def tanh(X):\n",
    "    \"\"\"Compute the hyperbolic tan function inplace.\n",
    "    Parameters\n",
    "    ----------\n",
    "    X : {array-like, sparse matrix}, shape (n_samples, n_features)\n",
    "        The input data.\n",
    "    Returns\n",
    "    -------\n",
    "    X_new : {array-like, sparse matrix}, shape (n_samples, n_features)\n",
    "        The transformed data.\n",
    "    \"\"\"\n",
    "    return np.tanh(X, out=X)"
   ]
  },
  {
   "cell_type": "code",
   "execution_count": 263,
   "metadata": {},
   "outputs": [
    {
     "ename": "TypeError",
     "evalue": "ufunc 'tanh' output (typecode 'd') could not be coerced to provided output parameter (typecode 'l') according to the casting rule ''same_kind''",
     "output_type": "error",
     "traceback": [
      "\u001b[1;31m---------------------------------------------------------------------------\u001b[0m",
      "\u001b[1;31mTypeError\u001b[0m                                 Traceback (most recent call last)",
      "\u001b[1;32m<ipython-input-263-6c9880a18f8a>\u001b[0m in \u001b[0;36m<module>\u001b[1;34m()\u001b[0m\n\u001b[1;32m----> 1\u001b[1;33m \u001b[0mtanh\u001b[0m\u001b[1;33m(\u001b[0m\u001b[0ma\u001b[0m\u001b[1;33m)\u001b[0m\u001b[1;33m\u001b[0m\u001b[0m\n\u001b[0m",
      "\u001b[1;32m<ipython-input-260-678d0741d985>\u001b[0m in \u001b[0;36mtanh\u001b[1;34m(X)\u001b[0m\n\u001b[0;32m     10\u001b[0m         \u001b[0mThe\u001b[0m \u001b[0mtransformed\u001b[0m \u001b[0mdata\u001b[0m\u001b[1;33m.\u001b[0m\u001b[1;33m\u001b[0m\u001b[0m\n\u001b[0;32m     11\u001b[0m     \"\"\"\n\u001b[1;32m---> 12\u001b[1;33m     \u001b[1;32mreturn\u001b[0m \u001b[0mnp\u001b[0m\u001b[1;33m.\u001b[0m\u001b[0mtanh\u001b[0m\u001b[1;33m(\u001b[0m\u001b[0mX\u001b[0m\u001b[1;33m,\u001b[0m \u001b[0mout\u001b[0m\u001b[1;33m=\u001b[0m\u001b[0mX\u001b[0m\u001b[1;33m)\u001b[0m\u001b[1;33m\u001b[0m\u001b[0m\n\u001b[0m",
      "\u001b[1;31mTypeError\u001b[0m: ufunc 'tanh' output (typecode 'd') could not be coerced to provided output parameter (typecode 'l') according to the casting rule ''same_kind''"
     ]
    }
   ],
   "source": [
    "tanh(a)"
   ]
  },
  {
   "cell_type": "code",
   "execution_count": null,
   "metadata": {},
   "outputs": [],
   "source": []
  }
 ],
 "metadata": {
  "kernelspec": {
   "display_name": "Python 3",
   "language": "python",
   "name": "python3"
  },
  "language_info": {
   "codemirror_mode": {
    "name": "ipython",
    "version": 3
   },
   "file_extension": ".py",
   "mimetype": "text/x-python",
   "name": "python",
   "nbconvert_exporter": "python",
   "pygments_lexer": "ipython3",
   "version": "3.7.3"
  },
  "toc": {
   "base_numbering": 1,
   "nav_menu": {},
   "number_sections": true,
   "sideBar": true,
   "skip_h1_title": false,
   "title_cell": "Table of Contents",
   "title_sidebar": "Contents",
   "toc_cell": false,
   "toc_position": {},
   "toc_section_display": true,
   "toc_window_display": false
  },
  "varInspector": {
   "cols": {
    "lenName": 16,
    "lenType": 16,
    "lenVar": 40
   },
   "kernels_config": {
    "python": {
     "delete_cmd_postfix": "",
     "delete_cmd_prefix": "del ",
     "library": "var_list.py",
     "varRefreshCmd": "print(var_dic_list())"
    },
    "r": {
     "delete_cmd_postfix": ") ",
     "delete_cmd_prefix": "rm(",
     "library": "var_list.r",
     "varRefreshCmd": "cat(var_dic_list()) "
    }
   },
   "types_to_exclude": [
    "module",
    "function",
    "builtin_function_or_method",
    "instance",
    "_Feature"
   ],
   "window_display": false
  }
 },
 "nbformat": 4,
 "nbformat_minor": 2
}
