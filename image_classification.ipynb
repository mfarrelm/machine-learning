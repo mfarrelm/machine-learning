{
 "cells": [
  {
   "cell_type": "code",
   "execution_count": 3,
   "metadata": {},
   "outputs": [
    {
     "name": "stderr",
     "output_type": "stream",
     "text": [
      "E:\\Anaconda\\lib\\site-packages\\sklearn\\cross_validation.py:41: DeprecationWarning: This module was deprecated in version 0.18 in favor of the model_selection module into which all the refactored classes and functions are moved. Also note that the interface of the new CV iterators are different from that of this module. This module will be removed in 0.20.\n",
      "  \"This module will be removed in 0.20.\", DeprecationWarning)\n",
      "E:\\Anaconda\\lib\\site-packages\\sklearn\\grid_search.py:42: DeprecationWarning: This module was deprecated in version 0.18 in favor of the model_selection module into which all the refactored classes and functions are moved. This module will be removed in 0.20.\n",
      "  DeprecationWarning)\n"
     ]
    }
   ],
   "source": [
    "import numpy as np\n",
    "import sklearn.linear_model\n",
    "from sklearn.model_selection import train_test_split\n",
    "import matplotlib.pyplot as plt\n",
    "import sklearn.neural_network \n",
    "from sklearn.preprocessing import StandardScaler\n",
    "from sklearn import svm\n",
    "import sklearn.decomposition\n",
    "import sklearn.datasets\n",
    "from time import time\n",
    "import sklearn.grid_search\n",
    "from PIL import Image\n",
    "import glob\n",
    "import matplotlib\n",
    "import time\n",
    "import sklearn.cluster\n"
   ]
  },
  {
   "cell_type": "code",
   "execution_count": 4,
   "metadata": {},
   "outputs": [],
   "source": [
    "def import_images (path, grayscale = True, size = (100,100)):\n",
    "\n",
    "    images = []\n",
    "    for data in glob.iglob(path + '*'):\n",
    "        im = Image.open(data)\n",
    "        im = im.convert('L')\n",
    "        \n",
    "        #crop to square\n",
    "        h,w = np.array(im).shape\n",
    "        if (w > h):\n",
    "            d = w - h\n",
    "            im = im.crop((d/2,0,w-d/2,h))\n",
    "        else :\n",
    "            d = h - w\n",
    "            im = im.crop((0,d/2,w,h-d/2))\n",
    "        \n",
    "        im = im.resize(size)\n",
    "        images.append(np.array(im))\n",
    "    \n",
    "    images = np.array(images)\n",
    "    images = images.reshape(images.shape[0], -1)\n",
    "    return np.array(images)\n",
    "\n",
    "#contoh import_images('image_datasets/')"
   ]
  },
  {
   "cell_type": "code",
   "execution_count": 5,
   "metadata": {},
   "outputs": [],
   "source": [
    "data1 = import_images('E:/Download/Notebook/images_europe_girl/')\n",
    "data2 = import_images('E:/Download/Notebook/images_kpop_girl/')\n",
    "data3 = import_images('E:/Download/Notebook/images_beckham/')\n",
    "data4 = import_images('E:/Download/Notebook/images_megawati/')\n",
    "y1 = np.ones(data1.shape[0])\n",
    "y2 = np.full(data2.shape[0],2)\n",
    "y3 = np.full(data3.shape[0],3)\n",
    "y4 = np.full(data4.shape[0],4)\n",
    "X = np.concatenate((data1[:],data2[:]))\n",
    "y = np.concatenate((y1[:],y2[:]))"
   ]
  },
  {
   "cell_type": "code",
   "execution_count": 9,
   "metadata": {},
   "outputs": [],
   "source": [
    "pca = sklearn.decomposition.PCA(n_components=1000,whiten=True)\n",
    "knn = sklearn.neighbors.KNeighborsClassifier(n_neighbors=5)\n",
    "scaler = sklearn.preprocessing.StandardScaler()\n",
    "svc = sklearn.svm.SVC()\n",
    "neural = sklearn.neural_network.MLPClassifier(max_iter=800, solver='lbfgs', \n",
    "                                              activation = 'tanh', hidden_layer_sizes=(5,5),\n",
    "                                             alpha = 1e10)\n",
    "\n",
    "              \n",
    "paramsvc = {'C' : [1, 1e-1,1e-2,1e-3,1e-4,1e-5], 'kernel' :( 'poly', 'linear')}\n",
    "grid = sklearn.model_selection.GridSearchCV(estimator=svc, param_grid=paramsvc, cv = 5)\n",
    "clf = grid"
   ]
  },
  {
   "cell_type": "code",
   "execution_count": 10,
   "metadata": {},
   "outputs": [],
   "source": [
    "x_train,x_test,y_train, y_test = train_test_split(X, y, stratify = y)"
   ]
  },
  {
   "cell_type": "code",
   "execution_count": 11,
   "metadata": {},
   "outputs": [
    {
     "name": "stderr",
     "output_type": "stream",
     "text": [
      "E:\\Anaconda\\lib\\site-packages\\sklearn\\utils\\validation.py:475: DataConversionWarning: Data with input dtype uint8 was converted to float64 by StandardScaler.\n",
      "  warnings.warn(msg, DataConversionWarning)\n"
     ]
    }
   ],
   "source": [
    "x_train = scaler.fit_transform(x_train)\n",
    "x_test = scaler.transform(x_test)\n",
    "x_train = pca.fit_transform(x_train)\n",
    "x_test = pca.transform(x_test)"
   ]
  },
  {
   "cell_type": "code",
   "execution_count": 20,
   "metadata": {},
   "outputs": [
    {
     "data": {
      "text/plain": [
       "MLPClassifier(activation='tanh', alpha=10000000000.0, batch_size='auto',\n",
       "       beta_1=0.9, beta_2=0.999, early_stopping=False, epsilon=1e-08,\n",
       "       hidden_layer_sizes=(5, 5), learning_rate='constant',\n",
       "       learning_rate_init=0.001, max_iter=800, momentum=0.9,\n",
       "       nesterovs_momentum=True, power_t=0.5, random_state=None,\n",
       "       shuffle=True, solver='lbfgs', tol=0.0001, validation_fraction=0.1,\n",
       "       verbose=False, warm_start=False)"
      ]
     },
     "execution_count": 20,
     "metadata": {},
     "output_type": "execute_result"
    }
   ],
   "source": [
    "neural.fit(x_train, y_train)"
   ]
  },
  {
   "cell_type": "code",
   "execution_count": 21,
   "metadata": {},
   "outputs": [
    {
     "name": "stdout",
     "output_type": "stream",
     "text": [
      "             precision    recall  f1-score   support\n",
      "\n",
      "        1.0       0.00      0.00      0.00         5\n",
      "        2.0       0.50      1.00      0.67         5\n",
      "\n",
      "avg / total       0.25      0.50      0.33        10\n",
      "\n"
     ]
    },
    {
     "name": "stderr",
     "output_type": "stream",
     "text": [
      "E:\\Anaconda\\lib\\site-packages\\sklearn\\metrics\\classification.py:1135: UndefinedMetricWarning: Precision and F-score are ill-defined and being set to 0.0 in labels with no predicted samples.\n",
      "  'precision', 'predicted', average, warn_for)\n"
     ]
    }
   ],
   "source": [
    "print(sklearn.metrics.classification_report(y_true = y_test, y_pred= neural.predict(x_test) ))"
   ]
  },
  {
   "cell_type": "code",
   "execution_count": null,
   "metadata": {},
   "outputs": [],
   "source": [
    "x"
   ]
  }
 ],
 "metadata": {
  "kernelspec": {
   "display_name": "Python 3",
   "language": "python",
   "name": "python3"
  },
  "language_info": {
   "codemirror_mode": {
    "name": "ipython",
    "version": 3
   },
   "file_extension": ".py",
   "mimetype": "text/x-python",
   "name": "python",
   "nbconvert_exporter": "python",
   "pygments_lexer": "ipython3",
   "version": "3.7.3"
  },
  "toc": {
   "base_numbering": 1,
   "nav_menu": {},
   "number_sections": true,
   "sideBar": true,
   "skip_h1_title": false,
   "title_cell": "Table of Contents",
   "title_sidebar": "Contents",
   "toc_cell": false,
   "toc_position": {},
   "toc_section_display": true,
   "toc_window_display": false
  },
  "varInspector": {
   "cols": {
    "lenName": 16,
    "lenType": 16,
    "lenVar": 40
   },
   "kernels_config": {
    "python": {
     "delete_cmd_postfix": "",
     "delete_cmd_prefix": "del ",
     "library": "var_list.py",
     "varRefreshCmd": "print(var_dic_list())"
    },
    "r": {
     "delete_cmd_postfix": ") ",
     "delete_cmd_prefix": "rm(",
     "library": "var_list.r",
     "varRefreshCmd": "cat(var_dic_list()) "
    }
   },
   "types_to_exclude": [
    "module",
    "function",
    "builtin_function_or_method",
    "instance",
    "_Feature"
   ],
   "window_display": false
  }
 },
 "nbformat": 4,
 "nbformat_minor": 2
}
